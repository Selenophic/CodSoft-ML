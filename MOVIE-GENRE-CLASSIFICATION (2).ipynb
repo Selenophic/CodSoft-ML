{
 "cells": [
  {
   "cell_type": "markdown",
   "id": "fcad3d9d",
   "metadata": {
    "id": "6ptkiuGrVPQm",
    "papermill": {
     "duration": 0.005274,
     "end_time": "2024-10-07T16:34:11.999473",
     "exception": false,
     "start_time": "2024-10-07T16:34:11.994199",
     "status": "completed"
    },
    "tags": []
   },
   "source": [
    "# Importing the libraries"
   ]
  },
  {
   "cell_type": "code",
   "execution_count": 1,
   "id": "1b4d89bc",
   "metadata": {
    "id": "VOGQypHlVQ-y",
    "papermill": {
     "duration": 0.917227,
     "end_time": "2024-10-07T16:34:12.921360",
     "exception": false,
     "start_time": "2024-10-07T16:34:12.004133",
     "status": "completed"
    },
    "tags": []
   },
   "outputs": [],
   "source": [
    "import numpy as np\n",
    "import matplotlib.pyplot as plt\n",
    "import pandas as pd"
   ]
  },
  {
   "cell_type": "markdown",
   "id": "897e514f",
   "metadata": {
    "id": "-ik1gDxeVTIA",
    "papermill": {
     "duration": 0.004274,
     "end_time": "2024-10-07T16:34:12.930663",
     "exception": false,
     "start_time": "2024-10-07T16:34:12.926389",
     "status": "completed"
    },
    "tags": []
   },
   "source": [
    "# Import Dataset"
   ]
  },
  {
   "cell_type": "code",
   "execution_count": 2,
   "id": "3d8ee5d9",
   "metadata": {
    "id": "Lg1WeXCTVXW3",
    "outputId": "197a7a73-4607-44df-f0b7-1b0defe186df",
    "papermill": {
     "duration": 0.974173,
     "end_time": "2024-10-07T16:34:13.909295",
     "exception": false,
     "start_time": "2024-10-07T16:34:12.935122",
     "status": "completed"
    },
    "tags": []
   },
   "outputs": [
    {
     "name": "stderr",
     "output_type": "stream",
     "text": [
      "C:\\Users\\reddy\\AppData\\Local\\Temp\\ipykernel_9888\\921405998.py:3: ParserWarning: Falling back to the 'python' engine because the 'c' engine does not support regex separators (separators > 1 char and different from '\\s+' are interpreted as regex); you can avoid this warning by specifying engine='python'.\n",
      "  dataset=pd.read_csv(r\"C:\\Users\\reddy\\Desktop\\Genre Classification Dataset\\train_data.txt\",delimiter=':::',header=None,index_col=0,names=columns)\n"
     ]
    },
    {
     "name": "stdout",
     "output_type": "stream",
     "text": [
      "                                              Title          Genre  \\\n",
      "1                     Oscar et la dame rose (2009)          drama    \n",
      "2                                     Cupid (1997)       thriller    \n",
      "3                 Young, Wild and Wonderful (1980)          adult    \n",
      "4                            The Secret Sin (1915)          drama    \n",
      "5                           The Unrecovered (2007)          drama    \n",
      "...                                             ...            ...   \n",
      "54210                              \"Bonino\" (1953)         comedy    \n",
      "54211                  Dead Girls Don't Cry (????)         horror    \n",
      "54212    Ronald Goedemondt: Ze bestaan echt (2008)    documentary    \n",
      "54213                     Make Your Own Bed (1944)         comedy    \n",
      "54214   Nature's Fury: Storm of the Century (2006)        history    \n",
      "\n",
      "                                             Description  \n",
      "1       Listening in to a conversation between his do...  \n",
      "2       A brother and sister with a past incestuous r...  \n",
      "3       As the bus empties the students for their fie...  \n",
      "4       To help their unemployed father make ends mee...  \n",
      "5       The film's title refers not only to the un-re...  \n",
      "...                                                  ...  \n",
      "54210   This short-lived NBC live sitcom centered on ...  \n",
      "54211   The NEXT Generation of EXPLOITATION. The sist...  \n",
      "54212   Ze bestaan echt, is a stand-up comedy about g...  \n",
      "54213   Walter and Vivian live in the country and hav...  \n",
      "54214   On Labor Day Weekend, 1935, the most intense ...  \n",
      "\n",
      "[54214 rows x 3 columns]\n"
     ]
    }
   ],
   "source": [
    "columns = [ 'Title' , 'Genre' , 'Description']\n",
    "column = ['Title' , 'Description']\n",
    "dataset=pd.read_csv(r\"C:\\Users\\reddy\\Desktop\\Genre Classification Dataset\\train_data.txt\",delimiter=':::',header=None,index_col=0,names=columns)\n",
    "print(dataset)"
   ]
  },
  {
   "cell_type": "markdown",
   "id": "118f741c",
   "metadata": {
    "id": "0CQK5fLqVeQ_",
    "papermill": {
     "duration": 0.004401,
     "end_time": "2024-10-07T16:34:13.918876",
     "exception": false,
     "start_time": "2024-10-07T16:34:13.914475",
     "status": "completed"
    },
    "tags": []
   },
   "source": [
    "# DATA PREPROCESSING"
   ]
  },
  {
   "cell_type": "code",
   "execution_count": 3,
   "id": "17f62ce2",
   "metadata": {
    "id": "Txal1JndVjAK",
    "papermill": {
     "duration": 0.120755,
     "end_time": "2024-10-07T16:34:14.044720",
     "exception": false,
     "start_time": "2024-10-07T16:34:13.923965",
     "status": "completed"
    },
    "tags": []
   },
   "outputs": [],
   "source": [
    "dataset.loc[:,'Description'] = dataset['Description'].astype(str).str.lower()"
   ]
  },
  {
   "cell_type": "code",
   "execution_count": 4,
   "id": "138be373",
   "metadata": {
    "id": "yPm82AwSVkSz",
    "outputId": "9d720e9a-a511-46a9-d919-7038ca3d4eb0",
    "papermill": {
     "duration": 0.024454,
     "end_time": "2024-10-07T16:34:14.074064",
     "exception": false,
     "start_time": "2024-10-07T16:34:14.049610",
     "status": "completed"
    },
    "tags": []
   },
   "outputs": [
    {
     "name": "stdout",
     "output_type": "stream",
     "text": [
      "               Genre                                        Description\n",
      "1             drama    listening in to a conversation between his do...\n",
      "2          thriller    a brother and sister with a past incestuous r...\n",
      "3             adult    as the bus empties the students for their fie...\n",
      "4             drama    to help their unemployed father make ends mee...\n",
      "5             drama    the film's title refers not only to the un-re...\n",
      "...              ...                                                ...\n",
      "54210        comedy    this short-lived nbc live sitcom centered on ...\n",
      "54211        horror    the next generation of exploitation. the sist...\n",
      "54212   documentary    ze bestaan echt, is a stand-up comedy about g...\n",
      "54213        comedy    walter and vivian live in the country and hav...\n",
      "54214       history    on labor day weekend, 1935, the most intense ...\n",
      "\n",
      "[54214 rows x 2 columns]\n"
     ]
    }
   ],
   "source": [
    "dataset.drop('Title',axis=1,inplace=True)\n",
    "print(dataset)"
   ]
  },
  {
   "cell_type": "code",
   "execution_count": 5,
   "id": "32184455",
   "metadata": {
    "id": "oMt5QELqVogM",
    "outputId": "02402b59-8560-421c-ea3c-7ea921acbf68",
    "papermill": {
     "duration": 0.134624,
     "end_time": "2024-10-07T16:34:14.213498",
     "exception": false,
     "start_time": "2024-10-07T16:34:14.078874",
     "status": "completed"
    },
    "tags": []
   },
   "outputs": [
    {
     "name": "stdout",
     "output_type": "stream",
     "text": [
      "               Genre                                        Description\n",
      "1             drama    listening in to a conversation between his do...\n",
      "2          thriller    a brother and sister with a past incestuous r...\n",
      "3             adult    as the bus empties the students for their fie...\n",
      "4             drama    to help their unemployed father make ends mee...\n",
      "5             drama    the film's title refers not only to the un-re...\n",
      "...              ...                                                ...\n",
      "54210        comedy    this short-lived nbc live sitcom centered on ...\n",
      "54211        horror    the next generation of exploitation. the sist...\n",
      "54212   documentary    ze bestaan echt, is a stand-up comedy about g...\n",
      "54213        comedy    walter and vivian live in the country and hav...\n",
      "54214       history    on labor day weekend, 1935, the most intense ...\n",
      "\n",
      "[54104 rows x 2 columns]\n"
     ]
    }
   ],
   "source": [
    "dataset=dataset.drop_duplicates()\n",
    "print(dataset)"
   ]
  },
  {
   "cell_type": "code",
   "execution_count": 6,
   "id": "531f9a20",
   "metadata": {
    "id": "KLmJ6UvMXV1z",
    "papermill": {
     "duration": 0.014769,
     "end_time": "2024-10-07T16:34:14.234336",
     "exception": false,
     "start_time": "2024-10-07T16:34:14.219567",
     "status": "completed"
    },
    "tags": []
   },
   "outputs": [],
   "source": [
    "x=dataset['Description'].values\n",
    "y=dataset['Genre'].values"
   ]
  },
  {
   "cell_type": "markdown",
   "id": "221694a9",
   "metadata": {
    "id": "ojGdTaoyVsn-",
    "papermill": {
     "duration": 0.004641,
     "end_time": "2024-10-07T16:34:14.244201",
     "exception": false,
     "start_time": "2024-10-07T16:34:14.239560",
     "status": "completed"
    },
    "tags": []
   },
   "source": [
    "# VECTORISING THE DATASET FOR TRAINING IT"
   ]
  },
  {
   "cell_type": "code",
   "execution_count": 7,
   "id": "c58145b4",
   "metadata": {
    "id": "QgPY4Z18VxHf",
    "outputId": "72586cb5-8c8e-43e7-c870-42d546217918",
    "papermill": {
     "duration": 7.130989,
     "end_time": "2024-10-07T16:34:21.380280",
     "exception": false,
     "start_time": "2024-10-07T16:34:14.249291",
     "status": "completed"
    },
    "tags": []
   },
   "outputs": [
    {
     "name": "stdout",
     "output_type": "stream",
     "text": [
      "  (0, 13463)\t0.11799505427318312\n",
      "  (0, 80433)\t0.16490992016174263\n",
      "  (0, 104939)\t0.1335194803882145\n",
      "  (0, 20056)\t0.0987208560888184\n",
      "  (0, 9252)\t0.1730294395726667\n",
      "  (0, 33275)\t0.18039320141159865\n",
      "  (0, 24111)\t0.1746323107092007\n",
      "  (0, 83308)\t0.11584576930219488\n",
      "  (0, 40634)\t0.07148007620592876\n",
      "  (0, 76597)\t0.02279581338144865\n",
      "  (0, 22488)\t0.09409848014574168\n",
      "  (0, 40981)\t0.09406859178372161\n",
      "  (0, 63799)\t0.061830319756368664\n",
      "  (0, 62512)\t0.048872386302883625\n",
      "  (0, 4426)\t0.12359220572451081\n",
      "  (0, 19491)\t0.13793450251448255\n",
      "  (0, 118056)\t0.14546210103316584\n",
      "  (0, 51155)\t0.12439065828730612\n",
      "  (0, 118615)\t0.1639084515458633\n",
      "  (0, 84836)\t0.10600106633544266\n",
      "  (0, 36370)\t0.1017231603187212\n",
      "  (0, 37225)\t0.16765739990057163\n",
      "  (0, 48023)\t0.09031372145055253\n",
      "  (0, 113265)\t0.10835630811815337\n",
      "  (0, 6471)\t0.13207373530162325\n",
      "  :\t:\n",
      "  (54103, 35902)\t0.11074324945024203\n",
      "  (54103, 35942)\t0.11254388034897783\n",
      "  (54103, 102220)\t0.15160027553667707\n",
      "  (54103, 54036)\t0.09372414913111625\n",
      "  (54103, 48808)\t0.13767628742767546\n",
      "  (54103, 4934)\t0.11843961454153606\n",
      "  (54103, 79945)\t0.14166914946027678\n",
      "  (54103, 44535)\t0.11205995779400792\n",
      "  (54103, 40736)\t0.05226803693705833\n",
      "  (54103, 60250)\t0.17587260677662594\n",
      "  (54103, 26885)\t0.08765094213172336\n",
      "  (54103, 24537)\t0.1072102233050154\n",
      "  (54103, 117326)\t0.06343182953567579\n",
      "  (54103, 65420)\t0.09123533604000987\n",
      "  (54103, 5197)\t0.05183509040171115\n",
      "  (54103, 116540)\t0.07484866013459512\n",
      "  (54103, 53978)\t0.05812006423446158\n",
      "  (54103, 71727)\t0.08831857882151938\n",
      "  (54103, 56081)\t0.092567469697858\n",
      "  (54103, 118071)\t0.042378485891636265\n",
      "  (54103, 77032)\t0.09567247827288404\n",
      "  (54103, 107539)\t0.13705139929039392\n",
      "  (54103, 5362)\t0.02860357414800976\n",
      "  (54103, 108668)\t0.061298532776110186\n",
      "  (54103, 51617)\t0.03274786199193652\n"
     ]
    }
   ],
   "source": [
    "from sklearn.feature_extraction.text import TfidfVectorizer\n",
    "vectorizer = TfidfVectorizer()\n",
    "x=vectorizer.fit_transform(x)\n",
    "print(x)"
   ]
  },
  {
   "cell_type": "markdown",
   "id": "b260ae64",
   "metadata": {
    "id": "KrFMsKWMWL-c",
    "papermill": {
     "duration": 0.004775,
     "end_time": "2024-10-07T16:34:21.390192",
     "exception": false,
     "start_time": "2024-10-07T16:34:21.385417",
     "status": "completed"
    },
    "tags": []
   },
   "source": [
    "#SPLITTING DATASET INTO TRINING AND TESTING"
   ]
  },
  {
   "cell_type": "code",
   "execution_count": 8,
   "id": "617c747f",
   "metadata": {
    "id": "GqqnGqIHWNiJ",
    "papermill": {
     "duration": 0.138551,
     "end_time": "2024-10-07T16:34:21.533761",
     "exception": false,
     "start_time": "2024-10-07T16:34:21.395210",
     "status": "completed"
    },
    "tags": []
   },
   "outputs": [],
   "source": [
    "from sklearn.model_selection import train_test_split\n",
    "x_train,x_test,y_train,y_test=train_test_split(x,y,test_size=0.2,random_state=0)"
   ]
  },
  {
   "cell_type": "markdown",
   "id": "8b1fd529",
   "metadata": {
    "id": "5Ze04ey5WsHv",
    "papermill": {
     "duration": 0.004792,
     "end_time": "2024-10-07T16:34:21.543675",
     "exception": false,
     "start_time": "2024-10-07T16:34:21.538883",
     "status": "completed"
    },
    "tags": []
   },
   "source": [
    "# TRAINING THE DATASET ON LOGISTIC REGRESSION"
   ]
  },
  {
   "cell_type": "code",
   "execution_count": 9,
   "id": "a09a03c3",
   "metadata": {
    "id": "0bp9hbtJWvfZ",
    "outputId": "cf53a8d5-2225-488c-d33d-50113e7706db",
    "papermill": {
     "duration": 81.373444,
     "end_time": "2024-10-07T16:35:42.922215",
     "exception": false,
     "start_time": "2024-10-07T16:34:21.548771",
     "status": "completed"
    },
    "tags": []
   },
   "outputs": [
    {
     "name": "stderr",
     "output_type": "stream",
     "text": [
      "C:\\Users\\reddy\\anaconda3\\Lib\\site-packages\\sklearn\\linear_model\\_logistic.py:469: ConvergenceWarning: lbfgs failed to converge (status=1):\n",
      "STOP: TOTAL NO. of ITERATIONS REACHED LIMIT.\n",
      "\n",
      "Increase the number of iterations (max_iter) or scale the data as shown in:\n",
      "    https://scikit-learn.org/stable/modules/preprocessing.html\n",
      "Please also refer to the documentation for alternative solver options:\n",
      "    https://scikit-learn.org/stable/modules/linear_model.html#logistic-regression\n",
      "  n_iter_i = _check_optimize_result(\n"
     ]
    },
    {
     "data": {
      "text/html": [
       "<style>#sk-container-id-1 {\n",
       "  /* Definition of color scheme common for light and dark mode */\n",
       "  --sklearn-color-text: black;\n",
       "  --sklearn-color-line: gray;\n",
       "  /* Definition of color scheme for unfitted estimators */\n",
       "  --sklearn-color-unfitted-level-0: #fff5e6;\n",
       "  --sklearn-color-unfitted-level-1: #f6e4d2;\n",
       "  --sklearn-color-unfitted-level-2: #ffe0b3;\n",
       "  --sklearn-color-unfitted-level-3: chocolate;\n",
       "  /* Definition of color scheme for fitted estimators */\n",
       "  --sklearn-color-fitted-level-0: #f0f8ff;\n",
       "  --sklearn-color-fitted-level-1: #d4ebff;\n",
       "  --sklearn-color-fitted-level-2: #b3dbfd;\n",
       "  --sklearn-color-fitted-level-3: cornflowerblue;\n",
       "\n",
       "  /* Specific color for light theme */\n",
       "  --sklearn-color-text-on-default-background: var(--sg-text-color, var(--theme-code-foreground, var(--jp-content-font-color1, black)));\n",
       "  --sklearn-color-background: var(--sg-background-color, var(--theme-background, var(--jp-layout-color0, white)));\n",
       "  --sklearn-color-border-box: var(--sg-text-color, var(--theme-code-foreground, var(--jp-content-font-color1, black)));\n",
       "  --sklearn-color-icon: #696969;\n",
       "\n",
       "  @media (prefers-color-scheme: dark) {\n",
       "    /* Redefinition of color scheme for dark theme */\n",
       "    --sklearn-color-text-on-default-background: var(--sg-text-color, var(--theme-code-foreground, var(--jp-content-font-color1, white)));\n",
       "    --sklearn-color-background: var(--sg-background-color, var(--theme-background, var(--jp-layout-color0, #111)));\n",
       "    --sklearn-color-border-box: var(--sg-text-color, var(--theme-code-foreground, var(--jp-content-font-color1, white)));\n",
       "    --sklearn-color-icon: #878787;\n",
       "  }\n",
       "}\n",
       "\n",
       "#sk-container-id-1 {\n",
       "  color: var(--sklearn-color-text);\n",
       "}\n",
       "\n",
       "#sk-container-id-1 pre {\n",
       "  padding: 0;\n",
       "}\n",
       "\n",
       "#sk-container-id-1 input.sk-hidden--visually {\n",
       "  border: 0;\n",
       "  clip: rect(1px 1px 1px 1px);\n",
       "  clip: rect(1px, 1px, 1px, 1px);\n",
       "  height: 1px;\n",
       "  margin: -1px;\n",
       "  overflow: hidden;\n",
       "  padding: 0;\n",
       "  position: absolute;\n",
       "  width: 1px;\n",
       "}\n",
       "\n",
       "#sk-container-id-1 div.sk-dashed-wrapped {\n",
       "  border: 1px dashed var(--sklearn-color-line);\n",
       "  margin: 0 0.4em 0.5em 0.4em;\n",
       "  box-sizing: border-box;\n",
       "  padding-bottom: 0.4em;\n",
       "  background-color: var(--sklearn-color-background);\n",
       "}\n",
       "\n",
       "#sk-container-id-1 div.sk-container {\n",
       "  /* jupyter's `normalize.less` sets `[hidden] { display: none; }`\n",
       "     but bootstrap.min.css set `[hidden] { display: none !important; }`\n",
       "     so we also need the `!important` here to be able to override the\n",
       "     default hidden behavior on the sphinx rendered scikit-learn.org.\n",
       "     See: https://github.com/scikit-learn/scikit-learn/issues/21755 */\n",
       "  display: inline-block !important;\n",
       "  position: relative;\n",
       "}\n",
       "\n",
       "#sk-container-id-1 div.sk-text-repr-fallback {\n",
       "  display: none;\n",
       "}\n",
       "\n",
       "div.sk-parallel-item,\n",
       "div.sk-serial,\n",
       "div.sk-item {\n",
       "  /* draw centered vertical line to link estimators */\n",
       "  background-image: linear-gradient(var(--sklearn-color-text-on-default-background), var(--sklearn-color-text-on-default-background));\n",
       "  background-size: 2px 100%;\n",
       "  background-repeat: no-repeat;\n",
       "  background-position: center center;\n",
       "}\n",
       "\n",
       "/* Parallel-specific style estimator block */\n",
       "\n",
       "#sk-container-id-1 div.sk-parallel-item::after {\n",
       "  content: \"\";\n",
       "  width: 100%;\n",
       "  border-bottom: 2px solid var(--sklearn-color-text-on-default-background);\n",
       "  flex-grow: 1;\n",
       "}\n",
       "\n",
       "#sk-container-id-1 div.sk-parallel {\n",
       "  display: flex;\n",
       "  align-items: stretch;\n",
       "  justify-content: center;\n",
       "  background-color: var(--sklearn-color-background);\n",
       "  position: relative;\n",
       "}\n",
       "\n",
       "#sk-container-id-1 div.sk-parallel-item {\n",
       "  display: flex;\n",
       "  flex-direction: column;\n",
       "}\n",
       "\n",
       "#sk-container-id-1 div.sk-parallel-item:first-child::after {\n",
       "  align-self: flex-end;\n",
       "  width: 50%;\n",
       "}\n",
       "\n",
       "#sk-container-id-1 div.sk-parallel-item:last-child::after {\n",
       "  align-self: flex-start;\n",
       "  width: 50%;\n",
       "}\n",
       "\n",
       "#sk-container-id-1 div.sk-parallel-item:only-child::after {\n",
       "  width: 0;\n",
       "}\n",
       "\n",
       "/* Serial-specific style estimator block */\n",
       "\n",
       "#sk-container-id-1 div.sk-serial {\n",
       "  display: flex;\n",
       "  flex-direction: column;\n",
       "  align-items: center;\n",
       "  background-color: var(--sklearn-color-background);\n",
       "  padding-right: 1em;\n",
       "  padding-left: 1em;\n",
       "}\n",
       "\n",
       "\n",
       "/* Toggleable style: style used for estimator/Pipeline/ColumnTransformer box that is\n",
       "clickable and can be expanded/collapsed.\n",
       "- Pipeline and ColumnTransformer use this feature and define the default style\n",
       "- Estimators will overwrite some part of the style using the `sk-estimator` class\n",
       "*/\n",
       "\n",
       "/* Pipeline and ColumnTransformer style (default) */\n",
       "\n",
       "#sk-container-id-1 div.sk-toggleable {\n",
       "  /* Default theme specific background. It is overwritten whether we have a\n",
       "  specific estimator or a Pipeline/ColumnTransformer */\n",
       "  background-color: var(--sklearn-color-background);\n",
       "}\n",
       "\n",
       "/* Toggleable label */\n",
       "#sk-container-id-1 label.sk-toggleable__label {\n",
       "  cursor: pointer;\n",
       "  display: block;\n",
       "  width: 100%;\n",
       "  margin-bottom: 0;\n",
       "  padding: 0.5em;\n",
       "  box-sizing: border-box;\n",
       "  text-align: center;\n",
       "}\n",
       "\n",
       "#sk-container-id-1 label.sk-toggleable__label-arrow:before {\n",
       "  /* Arrow on the left of the label */\n",
       "  content: \"▸\";\n",
       "  float: left;\n",
       "  margin-right: 0.25em;\n",
       "  color: var(--sklearn-color-icon);\n",
       "}\n",
       "\n",
       "#sk-container-id-1 label.sk-toggleable__label-arrow:hover:before {\n",
       "  color: var(--sklearn-color-text);\n",
       "}\n",
       "\n",
       "/* Toggleable content - dropdown */\n",
       "\n",
       "#sk-container-id-1 div.sk-toggleable__content {\n",
       "  max-height: 0;\n",
       "  max-width: 0;\n",
       "  overflow: hidden;\n",
       "  text-align: left;\n",
       "  /* unfitted */\n",
       "  background-color: var(--sklearn-color-unfitted-level-0);\n",
       "}\n",
       "\n",
       "#sk-container-id-1 div.sk-toggleable__content.fitted {\n",
       "  /* fitted */\n",
       "  background-color: var(--sklearn-color-fitted-level-0);\n",
       "}\n",
       "\n",
       "#sk-container-id-1 div.sk-toggleable__content pre {\n",
       "  margin: 0.2em;\n",
       "  border-radius: 0.25em;\n",
       "  color: var(--sklearn-color-text);\n",
       "  /* unfitted */\n",
       "  background-color: var(--sklearn-color-unfitted-level-0);\n",
       "}\n",
       "\n",
       "#sk-container-id-1 div.sk-toggleable__content.fitted pre {\n",
       "  /* unfitted */\n",
       "  background-color: var(--sklearn-color-fitted-level-0);\n",
       "}\n",
       "\n",
       "#sk-container-id-1 input.sk-toggleable__control:checked~div.sk-toggleable__content {\n",
       "  /* Expand drop-down */\n",
       "  max-height: 200px;\n",
       "  max-width: 100%;\n",
       "  overflow: auto;\n",
       "}\n",
       "\n",
       "#sk-container-id-1 input.sk-toggleable__control:checked~label.sk-toggleable__label-arrow:before {\n",
       "  content: \"▾\";\n",
       "}\n",
       "\n",
       "/* Pipeline/ColumnTransformer-specific style */\n",
       "\n",
       "#sk-container-id-1 div.sk-label input.sk-toggleable__control:checked~label.sk-toggleable__label {\n",
       "  color: var(--sklearn-color-text);\n",
       "  background-color: var(--sklearn-color-unfitted-level-2);\n",
       "}\n",
       "\n",
       "#sk-container-id-1 div.sk-label.fitted input.sk-toggleable__control:checked~label.sk-toggleable__label {\n",
       "  background-color: var(--sklearn-color-fitted-level-2);\n",
       "}\n",
       "\n",
       "/* Estimator-specific style */\n",
       "\n",
       "/* Colorize estimator box */\n",
       "#sk-container-id-1 div.sk-estimator input.sk-toggleable__control:checked~label.sk-toggleable__label {\n",
       "  /* unfitted */\n",
       "  background-color: var(--sklearn-color-unfitted-level-2);\n",
       "}\n",
       "\n",
       "#sk-container-id-1 div.sk-estimator.fitted input.sk-toggleable__control:checked~label.sk-toggleable__label {\n",
       "  /* fitted */\n",
       "  background-color: var(--sklearn-color-fitted-level-2);\n",
       "}\n",
       "\n",
       "#sk-container-id-1 div.sk-label label.sk-toggleable__label,\n",
       "#sk-container-id-1 div.sk-label label {\n",
       "  /* The background is the default theme color */\n",
       "  color: var(--sklearn-color-text-on-default-background);\n",
       "}\n",
       "\n",
       "/* On hover, darken the color of the background */\n",
       "#sk-container-id-1 div.sk-label:hover label.sk-toggleable__label {\n",
       "  color: var(--sklearn-color-text);\n",
       "  background-color: var(--sklearn-color-unfitted-level-2);\n",
       "}\n",
       "\n",
       "/* Label box, darken color on hover, fitted */\n",
       "#sk-container-id-1 div.sk-label.fitted:hover label.sk-toggleable__label.fitted {\n",
       "  color: var(--sklearn-color-text);\n",
       "  background-color: var(--sklearn-color-fitted-level-2);\n",
       "}\n",
       "\n",
       "/* Estimator label */\n",
       "\n",
       "#sk-container-id-1 div.sk-label label {\n",
       "  font-family: monospace;\n",
       "  font-weight: bold;\n",
       "  display: inline-block;\n",
       "  line-height: 1.2em;\n",
       "}\n",
       "\n",
       "#sk-container-id-1 div.sk-label-container {\n",
       "  text-align: center;\n",
       "}\n",
       "\n",
       "/* Estimator-specific */\n",
       "#sk-container-id-1 div.sk-estimator {\n",
       "  font-family: monospace;\n",
       "  border: 1px dotted var(--sklearn-color-border-box);\n",
       "  border-radius: 0.25em;\n",
       "  box-sizing: border-box;\n",
       "  margin-bottom: 0.5em;\n",
       "  /* unfitted */\n",
       "  background-color: var(--sklearn-color-unfitted-level-0);\n",
       "}\n",
       "\n",
       "#sk-container-id-1 div.sk-estimator.fitted {\n",
       "  /* fitted */\n",
       "  background-color: var(--sklearn-color-fitted-level-0);\n",
       "}\n",
       "\n",
       "/* on hover */\n",
       "#sk-container-id-1 div.sk-estimator:hover {\n",
       "  /* unfitted */\n",
       "  background-color: var(--sklearn-color-unfitted-level-2);\n",
       "}\n",
       "\n",
       "#sk-container-id-1 div.sk-estimator.fitted:hover {\n",
       "  /* fitted */\n",
       "  background-color: var(--sklearn-color-fitted-level-2);\n",
       "}\n",
       "\n",
       "/* Specification for estimator info (e.g. \"i\" and \"?\") */\n",
       "\n",
       "/* Common style for \"i\" and \"?\" */\n",
       "\n",
       ".sk-estimator-doc-link,\n",
       "a:link.sk-estimator-doc-link,\n",
       "a:visited.sk-estimator-doc-link {\n",
       "  float: right;\n",
       "  font-size: smaller;\n",
       "  line-height: 1em;\n",
       "  font-family: monospace;\n",
       "  background-color: var(--sklearn-color-background);\n",
       "  border-radius: 1em;\n",
       "  height: 1em;\n",
       "  width: 1em;\n",
       "  text-decoration: none !important;\n",
       "  margin-left: 1ex;\n",
       "  /* unfitted */\n",
       "  border: var(--sklearn-color-unfitted-level-1) 1pt solid;\n",
       "  color: var(--sklearn-color-unfitted-level-1);\n",
       "}\n",
       "\n",
       ".sk-estimator-doc-link.fitted,\n",
       "a:link.sk-estimator-doc-link.fitted,\n",
       "a:visited.sk-estimator-doc-link.fitted {\n",
       "  /* fitted */\n",
       "  border: var(--sklearn-color-fitted-level-1) 1pt solid;\n",
       "  color: var(--sklearn-color-fitted-level-1);\n",
       "}\n",
       "\n",
       "/* On hover */\n",
       "div.sk-estimator:hover .sk-estimator-doc-link:hover,\n",
       ".sk-estimator-doc-link:hover,\n",
       "div.sk-label-container:hover .sk-estimator-doc-link:hover,\n",
       ".sk-estimator-doc-link:hover {\n",
       "  /* unfitted */\n",
       "  background-color: var(--sklearn-color-unfitted-level-3);\n",
       "  color: var(--sklearn-color-background);\n",
       "  text-decoration: none;\n",
       "}\n",
       "\n",
       "div.sk-estimator.fitted:hover .sk-estimator-doc-link.fitted:hover,\n",
       ".sk-estimator-doc-link.fitted:hover,\n",
       "div.sk-label-container:hover .sk-estimator-doc-link.fitted:hover,\n",
       ".sk-estimator-doc-link.fitted:hover {\n",
       "  /* fitted */\n",
       "  background-color: var(--sklearn-color-fitted-level-3);\n",
       "  color: var(--sklearn-color-background);\n",
       "  text-decoration: none;\n",
       "}\n",
       "\n",
       "/* Span, style for the box shown on hovering the info icon */\n",
       ".sk-estimator-doc-link span {\n",
       "  display: none;\n",
       "  z-index: 9999;\n",
       "  position: relative;\n",
       "  font-weight: normal;\n",
       "  right: .2ex;\n",
       "  padding: .5ex;\n",
       "  margin: .5ex;\n",
       "  width: min-content;\n",
       "  min-width: 20ex;\n",
       "  max-width: 50ex;\n",
       "  color: var(--sklearn-color-text);\n",
       "  box-shadow: 2pt 2pt 4pt #999;\n",
       "  /* unfitted */\n",
       "  background: var(--sklearn-color-unfitted-level-0);\n",
       "  border: .5pt solid var(--sklearn-color-unfitted-level-3);\n",
       "}\n",
       "\n",
       ".sk-estimator-doc-link.fitted span {\n",
       "  /* fitted */\n",
       "  background: var(--sklearn-color-fitted-level-0);\n",
       "  border: var(--sklearn-color-fitted-level-3);\n",
       "}\n",
       "\n",
       ".sk-estimator-doc-link:hover span {\n",
       "  display: block;\n",
       "}\n",
       "\n",
       "/* \"?\"-specific style due to the `<a>` HTML tag */\n",
       "\n",
       "#sk-container-id-1 a.estimator_doc_link {\n",
       "  float: right;\n",
       "  font-size: 1rem;\n",
       "  line-height: 1em;\n",
       "  font-family: monospace;\n",
       "  background-color: var(--sklearn-color-background);\n",
       "  border-radius: 1rem;\n",
       "  height: 1rem;\n",
       "  width: 1rem;\n",
       "  text-decoration: none;\n",
       "  /* unfitted */\n",
       "  color: var(--sklearn-color-unfitted-level-1);\n",
       "  border: var(--sklearn-color-unfitted-level-1) 1pt solid;\n",
       "}\n",
       "\n",
       "#sk-container-id-1 a.estimator_doc_link.fitted {\n",
       "  /* fitted */\n",
       "  border: var(--sklearn-color-fitted-level-1) 1pt solid;\n",
       "  color: var(--sklearn-color-fitted-level-1);\n",
       "}\n",
       "\n",
       "/* On hover */\n",
       "#sk-container-id-1 a.estimator_doc_link:hover {\n",
       "  /* unfitted */\n",
       "  background-color: var(--sklearn-color-unfitted-level-3);\n",
       "  color: var(--sklearn-color-background);\n",
       "  text-decoration: none;\n",
       "}\n",
       "\n",
       "#sk-container-id-1 a.estimator_doc_link.fitted:hover {\n",
       "  /* fitted */\n",
       "  background-color: var(--sklearn-color-fitted-level-3);\n",
       "}\n",
       "</style><div id=\"sk-container-id-1\" class=\"sk-top-container\"><div class=\"sk-text-repr-fallback\"><pre>LogisticRegression(random_state=0)</pre><b>In a Jupyter environment, please rerun this cell to show the HTML representation or trust the notebook. <br />On GitHub, the HTML representation is unable to render, please try loading this page with nbviewer.org.</b></div><div class=\"sk-container\" hidden><div class=\"sk-item\"><div class=\"sk-estimator fitted sk-toggleable\"><input class=\"sk-toggleable__control sk-hidden--visually\" id=\"sk-estimator-id-1\" type=\"checkbox\" checked><label for=\"sk-estimator-id-1\" class=\"sk-toggleable__label fitted sk-toggleable__label-arrow fitted\">&nbsp;&nbsp;LogisticRegression<a class=\"sk-estimator-doc-link fitted\" rel=\"noreferrer\" target=\"_blank\" href=\"https://scikit-learn.org/1.4/modules/generated/sklearn.linear_model.LogisticRegression.html\">?<span>Documentation for LogisticRegression</span></a><span class=\"sk-estimator-doc-link fitted\">i<span>Fitted</span></span></label><div class=\"sk-toggleable__content fitted\"><pre>LogisticRegression(random_state=0)</pre></div> </div></div></div></div>"
      ],
      "text/plain": [
       "LogisticRegression(random_state=0)"
      ]
     },
     "execution_count": 9,
     "metadata": {},
     "output_type": "execute_result"
    }
   ],
   "source": [
    "from sklearn.linear_model import LogisticRegression\n",
    "classifier = LogisticRegression(random_state = 0)\n",
    "classifier.fit(x_train, y_train)"
   ]
  },
  {
   "cell_type": "markdown",
   "id": "8c002780",
   "metadata": {
    "id": "m2nR80HbX_UT",
    "papermill": {
     "duration": 0.005316,
     "end_time": "2024-10-07T16:35:42.932708",
     "exception": false,
     "start_time": "2024-10-07T16:35:42.927392",
     "status": "completed"
    },
    "tags": []
   },
   "source": [
    "# Predicting the data"
   ]
  },
  {
   "cell_type": "code",
   "execution_count": 10,
   "id": "e9808bae",
   "metadata": {
    "id": "3gvtul-UYA48",
    "outputId": "976854bd-7fca-434a-b701-441eb084d06f",
    "papermill": {
     "duration": 0.082194,
     "end_time": "2024-10-07T16:35:43.020188",
     "exception": false,
     "start_time": "2024-10-07T16:35:42.937994",
     "status": "completed"
    },
    "tags": []
   },
   "outputs": [
    {
     "name": "stdout",
     "output_type": "stream",
     "text": [
      "[[' drama ' ' western ']\n",
      " [' comedy ' ' adult ']\n",
      " [' documentary ' ' documentary ']\n",
      " ...\n",
      " [' drama ' ' drama ']\n",
      " [' documentary ' ' documentary ']\n",
      " [' action ' ' comedy ']]\n"
     ]
    }
   ],
   "source": [
    "y_pred=classifier.predict(x_test)\n",
    "print(np.concatenate((y_pred.reshape(len(y_pred),1),y_test.reshape(len(y_test),1)),1))"
   ]
  },
  {
   "cell_type": "code",
   "execution_count": 11,
   "id": "69472253",
   "metadata": {
    "id": "STroW_MoYHYN",
    "outputId": "da9c0e56-6809-4e59-8866-87ba776324ba",
    "papermill": {
     "duration": 0.370019,
     "end_time": "2024-10-07T16:35:43.395727",
     "exception": false,
     "start_time": "2024-10-07T16:35:43.025708",
     "status": "completed"
    },
    "tags": []
   },
   "outputs": [
    {
     "name": "stdout",
     "output_type": "stream",
     "text": [
      "               precision    recall  f1-score   support\n",
      "\n",
      "      action        0.19      0.48      0.28       102\n",
      "       adult        0.18      0.75      0.29        28\n",
      "   adventure        0.08      0.73      0.15        15\n",
      "   animation        0.03      1.00      0.06         3\n",
      "   biography        0.00      0.00      0.00         0\n",
      "      comedy        0.61      0.55      0.58      1578\n",
      "       crime        0.01      0.50      0.02         2\n",
      " documentary        0.88      0.65      0.75      3513\n",
      "       drama        0.81      0.54      0.65      4191\n",
      "      family        0.06      0.67      0.12        15\n",
      "     fantasy        0.00      0.00      0.00         0\n",
      "   game-show        0.54      0.79      0.64        19\n",
      "     history        0.00      0.00      0.00         0\n",
      "      horror        0.57      0.75      0.65       325\n",
      "       music        0.42      0.64      0.51        90\n",
      "     musical        0.00      0.00      0.00         0\n",
      "     mystery        0.00      0.00      0.00         0\n",
      "        news        0.00      0.00      0.00         0\n",
      "  reality-tv        0.20      0.63      0.30        54\n",
      "     romance        0.01      0.50      0.02         2\n",
      "      sci-fi        0.16      0.57      0.25        35\n",
      "       short        0.30      0.52      0.38       604\n",
      "       sport        0.12      0.92      0.22        12\n",
      "   talk-show        0.17      0.70      0.28        20\n",
      "    thriller        0.11      0.51      0.18        76\n",
      "         war        0.00      0.00      0.00         0\n",
      "     western        0.66      0.94      0.78       137\n",
      "\n",
      "     accuracy                           0.59     10821\n",
      "    macro avg       0.23      0.49      0.26     10821\n",
      " weighted avg       0.74      0.59      0.64     10821\n",
      "\n"
     ]
    },
    {
     "data": {
      "text/plain": [
       "0.5903336105720358"
      ]
     },
     "execution_count": 11,
     "metadata": {},
     "output_type": "execute_result"
    }
   ],
   "source": [
    "from sklearn.metrics import confusion_matrix, accuracy_score,classification_report\n",
    "print(classification_report(y_pred, y_test,zero_division=0))\n",
    "accuracy_score(y_test, y_pred)"
   ]
  },
  {
   "cell_type": "code",
   "execution_count": null,
   "id": "f42e6c74-0f6c-4e06-bb0f-a84ca2ed5dda",
   "metadata": {},
   "outputs": [],
   "source": []
  }
 ],
 "metadata": {
  "colab": {
   "provenance": []
  },
  "kaggle": {
   "accelerator": "none",
   "dataSources": [
    {
     "datasetId": 1417162,
     "sourceId": 2347441,
     "sourceType": "datasetVersion"
    }
   ],
   "dockerImageVersionId": 30786,
   "isGpuEnabled": false,
   "isInternetEnabled": true,
   "language": "python",
   "sourceType": "notebook"
  },
  "kernelspec": {
   "display_name": "Python 3 (ipykernel)",
   "language": "python",
   "name": "python3"
  },
  "language_info": {
   "codemirror_mode": {
    "name": "ipython",
    "version": 3
   },
   "file_extension": ".py",
   "mimetype": "text/x-python",
   "name": "python",
   "nbconvert_exporter": "python",
   "pygments_lexer": "ipython3",
   "version": "3.12.4"
  },
  "papermill": {
   "default_parameters": {},
   "duration": 94.891939,
   "end_time": "2024-10-07T16:35:44.023539",
   "environment_variables": {},
   "exception": null,
   "input_path": "__notebook__.ipynb",
   "output_path": "__notebook__.ipynb",
   "parameters": {},
   "start_time": "2024-10-07T16:34:09.131600",
   "version": "2.6.0"
  }
 },
 "nbformat": 4,
 "nbformat_minor": 5
}
